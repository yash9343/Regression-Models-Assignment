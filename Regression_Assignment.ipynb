{
  "nbformat": 4,
  "nbformat_minor": 0,
  "metadata": {
    "colab": {
      "provenance": []
    },
    "kernelspec": {
      "name": "python3",
      "display_name": "Python 3"
    },
    "language_info": {
      "name": "python"
    }
  },
  "cells": [
    {
      "cell_type": "markdown",
      "source": [
        "Question 1 : What is Simple Linear Regression (SLR)? Explain its purpose."
      ],
      "metadata": {
        "id": "hyQ7p5bfuqTD"
      }
    },
    {
      "cell_type": "markdown",
      "source": [
        "Answer:\n",
        "\n",
        "Simple Linear Regression (SLR) is a method used to find the relationship between two variables — one independent (X) and one dependent (Y) — by fitting a straight line to the data.\n",
        "\n",
        "- Purpose: To predict the value of Y based on X and to understand how changes in X affect Y."
      ],
      "metadata": {
        "id": "Rt9QhUD-vNyj"
      }
    },
    {
      "cell_type": "markdown",
      "source": [
        "Question 2: What are the key assumptions of Simple Linear Regression?"
      ],
      "metadata": {
        "id": "llboCkGnvcjB"
      }
    },
    {
      "cell_type": "markdown",
      "source": [
        "Answer:\n",
        "\n",
        "Key assumptions of Simple Linear Regression:\n",
        "\n",
        "1. Linearity: The relationship between X and Y is a straight line.\n",
        "\n",
        "2. Independence: The observations are independent of each other.\n",
        "\n",
        "3. Homoscedasticity: The variance of errors is constant across all values of X.\n",
        "\n",
        "4. Normality: The errors (residuals) are normally distributed.\n",
        "\n",
        "5. No Multicollinearity: Since SLR uses only one X, this assumption is automatically satisfied."
      ],
      "metadata": {
        "id": "qQ_6YUJnvrlV"
      }
    },
    {
      "cell_type": "markdown",
      "source": [
        "Question 3: Write the mathematical equation for a simple linear regression model and\n",
        "explain each term.\n"
      ],
      "metadata": {
        "id": "fkGstzUiwFbX"
      }
    },
    {
      "cell_type": "markdown",
      "source": [
        "Answer:\n",
        "\n",
        "Y = β0​+β1​X+ε\n",
        "\n",
        "Explanation of terms:\n",
        "\n",
        "\n",
        "- Y: Dependent variable (the value we want to predict)\n",
        "\n",
        "\n",
        "- X: Independent variable (the predictor)\n",
        "\n",
        "\n",
        "- β₀: Intercept (value of Y when X = 0)\n",
        "\n",
        "\n",
        "- β₁: Slope (change in Y for one-unit change in X)\n",
        "\n",
        "\n",
        "- ε: Error term (difference between actual and predicted Y)\n",
        "\n"
      ],
      "metadata": {
        "id": "JPuXiIJfwjkO"
      }
    },
    {
      "cell_type": "markdown",
      "source": [
        "Question 4: Provide a real-world example where simple linear regression can be\n",
        "applied.\n"
      ],
      "metadata": {
        "id": "0APlKocwx6el"
      }
    },
    {
      "cell_type": "markdown",
      "source": [
        "Answer:\n",
        "\n",
        "Example:\n",
        "\n",
        "Predicting a student’s exam score (Y) based on the number of study hours (X).\n",
        "As study hours increase, exam scores usually increase — so a simple linear regression can be used to find this relationship and predict future scores."
      ],
      "metadata": {
        "id": "JRdpTtsdyoi0"
      }
    },
    {
      "cell_type": "markdown",
      "source": [
        "Question 5: What is the method of least squares in linear regression?\n"
      ],
      "metadata": {
        "id": "apemZGoxy6cz"
      }
    },
    {
      "cell_type": "markdown",
      "source": [
        "Answer:\n",
        "\n",
        "The method of least squares is a way to find the best-fitting line in linear regression by minimizing the sum of the squared differences between the actual and predicted values of Y.\n",
        "- In simple terms: It finds the line where the total error (difference between actual and predicted Y) is as small as possible."
      ],
      "metadata": {
        "id": "X7fURKtlzB__"
      }
    },
    {
      "cell_type": "markdown",
      "source": [
        "Question 6: What is Logistic Regression? How does it differ from Linear Regression?"
      ],
      "metadata": {
        "id": "fd5vQSpGza0n"
      }
    },
    {
      "cell_type": "markdown",
      "source": [
        "Answer:\n",
        "\n",
        "Logistic Regression is a statistical method used to predict categorical outcomes (like Yes/No, 0/1, True/False). It uses the sigmoid (S-shaped) function to output probabilities between 0 and 1.\n",
        "\n",
        "\n",
        "Difference from Linear Regression:\n",
        "\n",
        "\n",
        "Linear Reagression:\n",
        "- Output > Continous value\n",
        "- Function used > Straight line(y = mx + c)\n",
        "- Use case > Predict numbers (e.g, salary marks)\n",
        "\n",
        "Logistic Regression:\n",
        "- OUtput > Categorical value (probability)\n",
        "- Function used > Sigmod/Logistic function\n",
        "- Use case > Predict classes (e.g, spam or nspam)"
      ],
      "metadata": {
        "id": "h1OBh1a3zd_6"
      }
    },
    {
      "cell_type": "markdown",
      "source": [
        "Question 7: Name and briefly describe three common evaluation metrics for regression\n",
        "models."
      ],
      "metadata": {
        "id": "wYV4iwVT3DyL"
      }
    },
    {
      "cell_type": "markdown",
      "source": [
        "Answer:\n",
        "\n",
        "1. Mean Absolute Error (MAE):\n",
        "Average of the absolute differences between predicted and actual values.\n",
        "→ Measures how far predictions are from actual values on average.\n",
        "\n",
        "\n",
        "2. Mean Squared Error (MSE):\n",
        "Average of the squared differences between predicted and actual values.\n",
        "→ Penalizes larger errors more heavily.\n",
        "\n",
        "\n",
        "3. R-squared (R²):\n",
        "Indicates how well the model explains the variation in the data.\n",
        "→ Value ranges from 0 to 1; higher means a better fit.\n",
        "\n"
      ],
      "metadata": {
        "id": "qB-Wq9Mr3rVd"
      }
    },
    {
      "cell_type": "markdown",
      "source": [
        "Question 8: What is the purpose of the R-squared metric in regression analysis?\n"
      ],
      "metadata": {
        "id": "byPuaN9x4ZTd"
      }
    },
    {
      "cell_type": "markdown",
      "source": [
        "Answer:\n",
        "\n",
        "The R-squared (R²) metric measures how well the regression model explains the variation in the dependent variable.\n",
        "It shows the percentage of variance in the target variable that is explained by the model.\n",
        "\n",
        "\n",
        "R² = 1: Perfect fit\n",
        "\n",
        "\n",
        "R² = 0: Model explains nothing\n",
        "\n",
        "\n",
        "-  Higher R² means the model fits the data better."
      ],
      "metadata": {
        "id": "LdsiP8a04eMz"
      }
    },
    {
      "cell_type": "markdown",
      "source": [
        "Question 9: Write Python code to fit a simple linear regression model using scikit-learn\n",
        "and print the slope and intercept.\n"
      ],
      "metadata": {
        "id": "Hb_l8Wnf4tY3"
      }
    },
    {
      "cell_type": "markdown",
      "source": [
        "Answer:"
      ],
      "metadata": {
        "id": "gxYLbbhs49Ck"
      }
    },
    {
      "cell_type": "code",
      "source": [
        "from sklearn.linear_model import LinearRegression\n",
        "\n",
        "# Sample data\n",
        "X = [[1], [2], [3], [4], [5]]   # Independent variable\n",
        "y = [2, 4, 5, 4, 5]             # Dependent variable\n",
        "\n",
        "# Create and train the model\n",
        "model = LinearRegression()\n",
        "model.fit(X, y)\n",
        "\n",
        "# Print slope and intercept\n",
        "print(\"Slope:\", model.coef_[0])\n",
        "print(\"Intercept:\", model.intercept_)\n"
      ],
      "metadata": {
        "colab": {
          "base_uri": "https://localhost:8080/"
        },
        "id": "Vjj9mSjO48FV",
        "outputId": "6fa5cf6c-0761-4c4b-9fd6-65f4ed09e1ec"
      },
      "execution_count": 1,
      "outputs": [
        {
          "output_type": "stream",
          "name": "stdout",
          "text": [
            "Slope: 0.6\n",
            "Intercept: 2.2\n"
          ]
        }
      ]
    },
    {
      "cell_type": "markdown",
      "source": [
        "Question 10: How do you interpret the coefficients in a simple linear regression model?\n"
      ],
      "metadata": {
        "id": "LNiDoBb75IVd"
      }
    },
    {
      "cell_type": "markdown",
      "source": [
        "Answer:\n",
        "\n",
        "In a simple linear regression model:\n",
        "\n",
        "\n",
        "- Coefficient (slope): Shows how much the dependent variable (Y) changes when the independent variable (X) increases by 1 unit.\n",
        "→ Example: If slope = 3, then for every 1 unit increase in X, Y increases by 3.\n",
        "\n",
        "\n",
        "- Intercept: The value of Y when X = 0.\n",
        "→ It represents the starting point of the regression line.\n",
        "\n"
      ],
      "metadata": {
        "id": "mGToYTqI5NaR"
      }
    },
    {
      "cell_type": "code",
      "source": [],
      "metadata": {
        "id": "oDGd5Ttf5hwX"
      },
      "execution_count": null,
      "outputs": []
    }
  ]
}